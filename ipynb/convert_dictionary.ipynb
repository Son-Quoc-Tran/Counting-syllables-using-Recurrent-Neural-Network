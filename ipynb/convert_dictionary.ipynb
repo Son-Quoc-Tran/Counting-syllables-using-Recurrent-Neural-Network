{
 "cells": [
  {
   "cell_type": "markdown",
   "metadata": {},
   "source": [
    "## Convert dictionary\n",
    "\n",
    "This google colaboratory notebook is used for converting cmudict.dict into syllable_dict"
   ]
  },
  {
   "cell_type": "code",
   "execution_count": null,
   "metadata": {
    "colab": {
     "base_uri": "https://localhost:8080/",
     "height": 35
    },
    "colab_type": "code",
    "id": "BskFoKfxdovU",
    "outputId": "e998c522-4496-430c-8f00-a46a96f3f3c1"
   },
   "outputs": [
    {
     "name": "stdout",
     "output_type": "stream",
     "text": [
      "Drive already mounted at /content/drive; to attempt to forcibly remount, call drive.mount(\"/content/drive\", force_remount=True).\n"
     ]
    }
   ],
   "source": [
    "from google.colab import drive\n",
    "drive.mount('/content/drive')"
   ]
  },
  {
   "cell_type": "code",
   "execution_count": null,
   "metadata": {
    "colab": {
     "base_uri": "https://localhost:8080/",
     "height": 35
    },
    "colab_type": "code",
    "id": "J1BBvkUmfFS-",
    "outputId": "910a4bcf-d54a-48d7-b5ff-47beef7e7023"
   },
   "outputs": [
    {
     "name": "stdout",
     "output_type": "stream",
     "text": [
      "134995\n"
     ]
    }
   ],
   "source": [
    "text_file = open(\"/content/drive/My Drive/counting syllables/cmudict.dict\", \"r\")\n",
    "lines = text_file.readlines()\n",
    "print(len(lines))\n",
    "text_file.close()"
   ]
  },
  {
   "cell_type": "code",
   "execution_count": null,
   "metadata": {
    "colab": {
     "base_uri": "https://localhost:8080/",
     "height": 55
    },
    "colab_type": "code",
    "id": "6rJpEaQfgelF",
    "outputId": "e4068708-1923-4c58-abdb-f33fc810c5cd"
   },
   "outputs": [
    {
     "name": "stdout",
     "output_type": "stream",
     "text": [
      "['a AH0\\n', 'a(2) EY1\\n', \"a's EY1 Z\\n\", 'a. EY1\\n', \"a.'s EY1 Z\\n\", 'a.d. EY2 D IY1\\n', 'a.m. EY2 EH1 M\\n', 'a.s EY1 Z\\n', 'aaa T R IH2 P AH0 L EY1\\n', 'aaberg AA1 B ER0 G\\n']\n"
     ]
    }
   ],
   "source": [
    "print(lines[:10])"
   ]
  },
  {
   "cell_type": "code",
   "execution_count": null,
   "metadata": {
    "colab": {},
    "colab_type": "code",
    "id": "M3eKbE35fox-"
   },
   "outputs": [],
   "source": [
    "import pandas as pd\n",
    "\n",
    "syllable_table = pd.DataFrame(columns=['word', 'syllable_count'])"
   ]
  },
  {
   "cell_type": "code",
   "execution_count": null,
   "metadata": {
    "colab": {},
    "colab_type": "code",
    "id": "u10akRz-iRV2"
   },
   "outputs": [],
   "source": [
    "def have_vowels(part_of_pronunciation):\n",
    "  vowels = ['U','E','O','A','I']\n",
    "  result = any(elem in part_of_pronunciation for elem in vowels)\n",
    "  return result"
   ]
  },
  {
   "cell_type": "code",
   "execution_count": null,
   "metadata": {
    "colab": {},
    "colab_type": "code",
    "id": "EKhNBKQBgcEY"
   },
   "outputs": [],
   "source": [
    "for line in lines:\n",
    "  split_line = line.split(' ')\n",
    "  if '(' in split_line[0]: continue\n",
    "  word = split_line[0]\n",
    "  count = 0\n",
    "  for i in range(1,len(split_line)):\n",
    "    if have_vowels(split_line[i]):\n",
    "      count += 1\n",
    "  df_add = pd.DataFrame([[word, count]], columns = ['word', 'syllable_count'])\n",
    "  syllable_table = syllable_table.append(df_add, ignore_index=True)"
   ]
  },
  {
   "cell_type": "code",
   "execution_count": null,
   "metadata": {
    "colab": {
     "base_uri": "https://localhost:8080/",
     "height": 124
    },
    "colab_type": "code",
    "id": "uv3sVL5Wjjzw",
    "outputId": "4707f4bb-cb1e-4ac6-d7e7-22cf8e2fe297"
   },
   "outputs": [
    {
     "name": "stdout",
     "output_type": "stream",
     "text": [
      "   word syllable_count\n",
      "0     a              1\n",
      "1   a's              1\n",
      "2    a.              1\n",
      "3  a.'s              1\n",
      "4  a.d.              2\n"
     ]
    }
   ],
   "source": [
    "print(syllable_table.head())"
   ]
  },
  {
   "cell_type": "code",
   "execution_count": null,
   "metadata": {
    "colab": {},
    "colab_type": "code",
    "id": "ZM7fs3X0livw"
   },
   "outputs": [],
   "source": [
    "syllable_table.to_csv('/content/drive/My Drive/counting syllables/syllable_dict.csv', header=False, index=False)"
   ]
  },
  {
   "cell_type": "code",
   "execution_count": null,
   "metadata": {
    "colab": {},
    "colab_type": "code",
    "id": "TZaxyNhfskJP"
   },
   "outputs": [],
   "source": [
    "def search_for_start(df, letter, start, end):\n",
    "  if start >= end: return -1\n",
    "  mid = (start + end)//2\n",
    "  mid_word = df['word'][mid]\n",
    "  mid_first_letter = mid_word[0]\n",
    "  if mid_first_letter >= letter:\n",
    "    previous_word = df['word'][mid-1]\n",
    "    if previous_word[0] < letter: return mid\n",
    "    else: return search_for_start(df, letter, start, mid-1)\n",
    "  if mid_first_letter < letter:\n",
    "    next_word = df['word'][mid+1]\n",
    "    if next_word[0] == letter: return mid+1\n",
    "    else: return  search_for_start(df, letter, mid+1, end)"
   ]
  },
  {
   "cell_type": "code",
   "execution_count": null,
   "metadata": {
    "colab": {
     "base_uri": "https://localhost:8080/",
     "height": 55
    },
    "colab_type": "code",
    "id": "E6BmnJTqzfSC",
    "outputId": "b3909ae4-fa43-43f6-a6fc-986d485ec473"
   },
   "outputs": [
    {
     "name": "stdout",
     "output_type": "stream",
     "text": [
      "{'a': 0, 'b': 6843, 'c': 16116, 'd': 26235, 'e': 33357, 'f': 37577, 'g': 42462, 'h': 47860, 'i': 53960, 'j': 57016, 'k': 58581, 'l': 62575, 'm': 67872, 'n': 76939, 'o': 79979, 'p': 82810, 'q': 90560, 'r': 90995, 's': 97654, 't': 111068, 'u': 116435, 'v': 118146, 'w': 120390, 'x': 124288, 'y': 124364, 'z': 125043}\n"
     ]
    }
   ],
   "source": [
    "alphabet = 'abcdefghijklmnopqrstuvwxyz'\n",
    "hash_table = {'a':0}\n",
    "start = 0\n",
    "for letter in alphabet[1:]:\n",
    "  first_word = search_for_start(syllable_table, letter, start, len(syllable_table))\n",
    "  hash_table[letter] = first_word\n",
    "  if first_word > start: start = first_word\n",
    "print(hash_table)"
   ]
  },
  {
   "cell_type": "code",
   "execution_count": null,
   "metadata": {
    "colab": {
     "base_uri": "https://localhost:8080/",
     "height": 35
    },
    "colab_type": "code",
    "id": "zjnPA4VJ2kJi",
    "outputId": "d4766f25-11b0-41cc-fdf0-a81b366a2993"
   },
   "outputs": [
    {
     "name": "stdout",
     "output_type": "stream",
     "text": [
      "a\n"
     ]
    }
   ],
   "source": [
    "print(syllable_table['word'][0])"
   ]
  },
  {
   "cell_type": "code",
   "execution_count": null,
   "metadata": {
    "colab": {},
    "colab_type": "code",
    "id": "4lZZKFQR3nB_"
   },
   "outputs": [],
   "source": []
  }
 ],
 "metadata": {
  "colab": {
   "name": "convert dictionary.ipynb",
   "provenance": []
  },
  "kernelspec": {
   "display_name": "Python 3",
   "language": "python",
   "name": "python3"
  },
  "language_info": {
   "codemirror_mode": {
    "name": "ipython",
    "version": 3
   },
   "file_extension": ".py",
   "mimetype": "text/x-python",
   "name": "python",
   "nbconvert_exporter": "python",
   "pygments_lexer": "ipython3",
   "version": "3.7.4"
  }
 },
 "nbformat": 4,
 "nbformat_minor": 1
}
