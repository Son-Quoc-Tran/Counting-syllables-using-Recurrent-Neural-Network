{
  "nbformat": 4,
  "nbformat_minor": 0,
  "metadata": {
    "colab": {
      "name": "Phase 1 model development.ipynb",
      "provenance": [],
      "collapsed_sections": [],
      "toc_visible": true
    },
    "kernelspec": {
      "name": "python3",
      "display_name": "Python 3"
    },
    "accelerator": "GPU"
  },
  "cells": [
    {
      "cell_type": "markdown",
      "metadata": {
        "id": "4orkRMxJoW1J",
        "colab_type": "text"
      },
      "source": [
        "#***Experimenting LSTM for counting syllables in words***\n"
      ]
    },
    {
      "cell_type": "markdown",
      "metadata": {
        "id": "VeuvQGRCoGbL",
        "colab_type": "text"
      },
      "source": [
        "This notebook is used for developing model in the phase 1. The model used is unidirectional LSTM.\n",
        " "
      ]
    },
    {
      "cell_type": "code",
      "metadata": {
        "id": "9RUzb6OxdeA9",
        "colab_type": "code",
        "colab": {}
      },
      "source": [
        "#import all used library\n",
        "import pandas as pd\n",
        "import torch\n",
        "import numpy as np \n",
        "from collections import Counter\n",
        "from torch.utils.data import TensorDataset, DataLoader\n",
        "import torch.nn as nn\n",
        "import math\n",
        "import os\n",
        "import time\n",
        "import datetime\n",
        "import matplotlib.pyplot as pyplot\n",
        "from sklearn.utils import shuffle"
      ],
      "execution_count": 1,
      "outputs": []
    },
    {
      "cell_type": "code",
      "metadata": {
        "id": "tLXW-ospdnSK",
        "colab_type": "code",
        "colab": {
          "base_uri": "https://localhost:8080/",
          "height": 301
        },
        "outputId": "1f12b810-4d92-47ef-d992-6ad9bf694982"
      },
      "source": [
        "#Load data using pandas\n",
        "path_to_dictionary = '/content/converted_syllable_dict.csv'\n",
        "print('Parsing the dataset .csv file...')\n",
        "dictionary = pd.read_csv(path_to_dictionary)\n",
        "dictionary = shuffle(dictionary)\n",
        "print(dictionary)\n",
        "print('Finished')\n",
        "\n"
      ],
      "execution_count": 2,
      "outputs": [
        {
          "output_type": "stream",
          "text": [
            "Parsing the dataset .csv file...\n",
            "                 word  syllable_count\n",
            "32098       downsides               2\n",
            "84812           penis               2\n",
            "92183   realistically               5\n",
            "26376          dahl's               1\n",
            "9315         beilfuss               2\n",
            "...               ...             ...\n",
            "20468       civilized               3\n",
            "119332       vertebra               3\n",
            "63650          lashes               2\n",
            "11313          blaine               1\n",
            "74349    misinforming               4\n",
            "\n",
            "[125914 rows x 2 columns]\n",
            "Finished\n"
          ],
          "name": "stdout"
        }
      ]
    },
    {
      "cell_type": "code",
      "metadata": {
        "id": "zn8t6zEddpPy",
        "colab_type": "code",
        "colab": {}
      },
      "source": [
        "words = dictionary['word']\n",
        "myWords = []\n",
        "for word in words:\n",
        "    myWords.append(str(word).lower())\n",
        "myCounts = dictionary['syllable_count']\n",
        "count_list =[]\n",
        "for count in myCounts:\n",
        "    count_list.append(count * 1000)\n",
        "counts = np.array(count_list) #convert count_list into np.array"
      ],
      "execution_count": 3,
      "outputs": []
    },
    {
      "cell_type": "code",
      "metadata": {
        "id": "a5i3j5FLdrKZ",
        "colab_type": "code",
        "colab": {
          "base_uri": "https://localhost:8080/",
          "height": 55
        },
        "outputId": "7acc8763-b42d-46e1-de0b-af3df2f05409"
      },
      "source": [
        "all_words = ' '.join(str(myWords))\n",
        "chars = all_words.split()\n",
        "counters = Counter(chars)\n",
        "char_list = sorted(counters, key=counters.get, reverse=True)\n",
        "char_to_int = {char: ii for ii, char in enumerate(char_list, 1)}\n",
        "print(char_to_int)\n",
        "\n",
        "words_ints =[]\n",
        "for word in myWords:\n",
        "    words_ints.append([char_to_int[char] for char in str(word)])\n"
      ],
      "execution_count": 4,
      "outputs": [
        {
          "output_type": "stream",
          "text": [
            "{\"'\": 1, ',': 2, 'e': 3, 'a': 4, 'r': 5, 'i': 6, 's': 7, 'n': 8, 'o': 9, 't': 10, 'l': 11, 'c': 12, 'd': 13, 'm': 14, 'u': 15, 'h': 16, 'g': 17, 'p': 18, 'b': 19, 'k': 20, 'y': 21, '\"': 22, 'f': 23, 'w': 24, 'v': 25, 'z': 26, 'j': 27, 'x': 28, 'q': 29, '-': 30, '.': 31, '[': 32, '1': 33, ']': 34}\n"
          ],
          "name": "stdout"
        }
      ]
    },
    {
      "cell_type": "code",
      "metadata": {
        "id": "UIp8SW5DdtMJ",
        "colab_type": "code",
        "colab": {
          "base_uri": "https://localhost:8080/",
          "height": 35
        },
        "outputId": "3f92f2c5-77fd-406e-eb0f-d4f600c0881a"
      },
      "source": [
        "len_word = [len(word) for word in myWords]\n",
        "max_length = max(len_word)\n",
        "print(max_length)"
      ],
      "execution_count": 5,
      "outputs": [
        {
          "output_type": "stream",
          "text": [
            "28\n"
          ],
          "name": "stdout"
        }
      ]
    },
    {
      "cell_type": "code",
      "metadata": {
        "id": "mtHSko36eIq7",
        "colab_type": "code",
        "colab": {}
      },
      "source": [
        "def pad_words(words, length):\n",
        "  features = np.zeros((len(words), length), dtype=int)\n",
        "  for i, row in enumerate(words):\n",
        "    features[i, -len(row):] = np.array(row)[:length]\n",
        "  return features"
      ],
      "execution_count": 6,
      "outputs": []
    },
    {
      "cell_type": "code",
      "metadata": {
        "id": "Jer_KS40e1Vi",
        "colab_type": "code",
        "colab": {
          "base_uri": "https://localhost:8080/",
          "height": 568
        },
        "outputId": "cf572169-48ee-4593-c518-70c8ae8885f9"
      },
      "source": [
        "myLength = max_length\n",
        "features = pad_words(words_ints, myLength)\n",
        "print(features[-30:, -10:])\n",
        "print(len(features))\n"
      ],
      "execution_count": 7,
      "outputs": [
        {
          "output_type": "stream",
          "text": [
            "[[ 0  0 18  5  9 10  5 15 13  3]\n",
            " [ 0  0  0  0 19  6  3 19  3  5]\n",
            " [ 0  0  0 17  5  6 23 23  3  3]\n",
            " [ 0  0 20  6 20 20  9 14  4  8]\n",
            " [ 0  0  7 12 16  5  3  6  3  5]\n",
            " [ 0  0  8  3 24 25  6 11 11  3]\n",
            " [ 4 10  4 18  9  6  8 10  1  7]\n",
            " [ 5 20  6  8  7  9  8  6  7 14]\n",
            " [ 0  0  0  0  0  0  8 15 13  9]\n",
            " [ 0  0  0  0  0  0 17  9 10  9]\n",
            " [ 0  0  0  0  5  3 13  3 11 11]\n",
            " [ 0  0  7  6 11  3  8 12  3  7]\n",
            " [ 0  0  0 16 15  5  5  6  3  7]\n",
            " [ 3 10 16  3  5 11  4  8 13  7]\n",
            " [ 0  0  0  0  0  0 17  6  5 10]\n",
            " [ 0  0  0  0  0 16  4 11 11  3]\n",
            " [ 0  0  0 27  4 12  9 19 15  7]\n",
            " [10 24  4  5 13  9 24  7 20  6]\n",
            " [ 0  0  0  0  0  0 19  9 14 19]\n",
            " [ 0  0  7 10 30 13  3  8  6  7]\n",
            " [ 0 18  4  5 10 16  3  8  9  8]\n",
            " [ 0  0 11  3  6  7 16 14  4  8]\n",
            " [ 0 14  4 12 20  9 24  7 20  6]\n",
            " [ 0  0 12 15 11 11 15 14  1  7]\n",
            " [19  7  3  5 25  4 10  6  9  8]\n",
            " [ 0 12  6 25  6 11  6 26  3 13]\n",
            " [ 0  0 25  3  5 10  3 19  5  4]\n",
            " [ 0  0  0  0 11  4  7 16  3  7]\n",
            " [ 0  0  0  0 19 11  4  6  8  3]\n",
            " [ 7  6  8 23  9  5 14  6  8 17]]\n",
            "125914\n"
          ],
          "name": "stdout"
        }
      ]
    },
    {
      "cell_type": "code",
      "metadata": {
        "id": "AX8UMAE6fHhv",
        "colab_type": "code",
        "colab": {
          "base_uri": "https://localhost:8080/",
          "height": 106
        },
        "outputId": "082bb0d3-5fe1-4b73-9994-1722e6ee6863"
      },
      "source": [
        "split_frac = 0.9\n",
        "## split data into training, validation, and test data (features and labels, x and y)\n",
        "split_idx = int(len(features)*split_frac)\n",
        "print(split_idx)\n",
        "train_x, remaining_x = features[:split_idx], features[split_idx:]\n",
        "train_y, remaining_y = counts[:split_idx], counts[split_idx:]\n",
        "\n",
        "test_idx = int(len(remaining_x)*0.5)\n",
        "val_x, test_x = remaining_x[:test_idx], remaining_x[test_idx:]\n",
        "val_y, test_y = remaining_y[:test_idx], remaining_y[test_idx:]\n",
        "\n",
        "## print out the shapes of your resultant feature data\n",
        "print(\"\\t\\t\\tFeature Shapes:\")\n",
        "print(\"Train set: \\t\\t{}\".format(train_x.shape), \n",
        "      \"\\nValidation set: \\t{}\".format(val_x.shape),\n",
        "      \"\\nTest set: \\t\\t{}\".format(test_x.shape))"
      ],
      "execution_count": 8,
      "outputs": [
        {
          "output_type": "stream",
          "text": [
            "113322\n",
            "\t\t\tFeature Shapes:\n",
            "Train set: \t\t(113322, 28) \n",
            "Validation set: \t(6296, 28) \n",
            "Test set: \t\t(6296, 28)\n"
          ],
          "name": "stdout"
        }
      ]
    },
    {
      "cell_type": "code",
      "metadata": {
        "id": "SyVh8dXxfiXn",
        "colab_type": "code",
        "colab": {}
      },
      "source": [
        "# create Tensor datasets\n",
        "train_data = TensorDataset(torch.from_numpy(train_x), torch.from_numpy(train_y))\n",
        "valid_data = TensorDataset(torch.from_numpy(val_x), torch.from_numpy(val_y))\n",
        "test_data = TensorDataset(torch.from_numpy(test_x), torch.from_numpy(test_y))\n",
        "\n",
        "# dataloaders\n",
        "batch_size = 50\n",
        "\n",
        "# make sure the SHUFFLE your training data\n",
        "train_loader = DataLoader(train_data, shuffle=True, batch_size=batch_size, drop_last=True)\n",
        "valid_loader = DataLoader(valid_data, shuffle=True, batch_size=batch_size, drop_last=True)\n",
        "test_loader = DataLoader(test_data, shuffle=True, batch_size=batch_size, drop_last=True)"
      ],
      "execution_count": 9,
      "outputs": []
    },
    {
      "cell_type": "code",
      "metadata": {
        "id": "iO4odJfPha7J",
        "colab_type": "code",
        "colab": {
          "base_uri": "https://localhost:8080/",
          "height": 35
        },
        "outputId": "24ff774d-afbd-485b-fd74-bd1289642ce7"
      },
      "source": [
        "import torch\n",
        "# First checking if GPU is available\n",
        "train_on_gpu=torch.cuda.is_available()\n",
        "\n",
        "if(train_on_gpu):\n",
        "    print('Training on GPU.')\n",
        "else:\n",
        "    print('No GPU available, training on CPU.')"
      ],
      "execution_count": 10,
      "outputs": [
        {
          "output_type": "stream",
          "text": [
            "Training on GPU.\n"
          ],
          "name": "stdout"
        }
      ]
    },
    {
      "cell_type": "code",
      "metadata": {
        "id": "texatJRvhexG",
        "colab_type": "code",
        "colab": {}
      },
      "source": [
        "class LSTM(nn.Module):\n",
        "\n",
        "\n",
        "    def __init__(self, vocab_size, output_size, embedding_dim, hidden_dim, n_layers):\n",
        "        \"\"\"\n",
        "        Initialize the model by setting up the layers.\n",
        "        \"\"\"\n",
        "        super(LSTM, self).__init__()\n",
        "\n",
        "        self.output_size = output_size\n",
        "        self.n_layers = n_layers\n",
        "        self.hidden_dim = hidden_dim\n",
        "        \n",
        "        # embedding and LSTM layers\n",
        "        self.embedding = nn.Embedding(vocab_size, embedding_dim)\n",
        "        self.lstm = nn.LSTM(embedding_dim, hidden_dim, n_layers, batch_first=True)\n",
        "        #dropout layers\n",
        "        self.dropout = nn.Dropout(0.2)\n",
        "        # linear layers\n",
        "        self.fc1 = nn.Linear(hidden_dim, 256)\n",
        "        self.fc2 = nn.Linear(256, output_size)\n",
        "\n",
        "        \n",
        "\n",
        "    def forward(self, x, hidden):\n",
        "        \"\"\"\n",
        "        Perform a forward pass of our model on some input and hidden state.\n",
        "        \"\"\"\n",
        "        batch_size = x.size(0)\n",
        "\n",
        "        # embeddings and lstm_out\n",
        "        x = x.long()\n",
        "        embeds = self.embedding(x)\n",
        "        lstm_out, hidden = self.lstm(embeds, hidden)\n",
        "    \n",
        "        # stack up lstm outputs\n",
        "        lstm_out = lstm_out.contiguous().view(-1, self.hidden_dim)\n",
        "        out = self.dropout(lstm_out)\n",
        "        # fully-connected layer\n",
        "        out = nn.functional.relu(self.fc1(lstm_out))\n",
        "        out = self.dropout(out)\n",
        "        out = self.fc2(out)\n",
        "        \n",
        "        # reshape to be batch_size first\n",
        "        out = out.view(batch_size, -1)\n",
        "        out = out[:, -1] # get last batch of labels\n",
        "        \n",
        "        return out, hidden\n",
        "    \n",
        "    \n",
        "    def init_hidden(self, batch_size):\n",
        "        ''' Initializes hidden state '''\n",
        "        # Create two new tensors with sizes n_layers x batch_size x hidden_dim,\n",
        "        # initialized to zero, for hidden state and cell state of LSTM\n",
        "        weight = next(self.parameters()).data\n",
        "        \n",
        "        if (train_on_gpu):\n",
        "            hidden = (weight.new(self.n_layers, batch_size, self.hidden_dim).zero_().cuda(),\n",
        "                  weight.new(self.n_layers, batch_size, self.hidden_dim).zero_().cuda())\n",
        "        else:\n",
        "            hidden = (weight.new(self.n_layers, batch_size, self.hidden_dim).zero_(),\n",
        "                      weight.new(self.n_layers, batch_size, self.hidden_dim).zero_())\n",
        "        \n",
        "        return hidden"
      ],
      "execution_count": 11,
      "outputs": []
    },
    {
      "cell_type": "code",
      "metadata": {
        "id": "ZQr33JSFh1p2",
        "colab_type": "code",
        "colab": {
          "base_uri": "https://localhost:8080/",
          "height": 159
        },
        "outputId": "0dc3ae37-26ab-4303-90ba-cd40c99e71e8"
      },
      "source": [
        "vocab_size = len(char_to_int)+1 # +1 for the 0 padding + our word tokens\n",
        "output_size = 1\n",
        "embedding_dim = 100\n",
        "hidden_dim = 256\n",
        "n_layers = 2\n",
        "\n",
        "net_lstm = LSTM(vocab_size, output_size, embedding_dim, hidden_dim, n_layers)\n",
        "print('LSTM \\n', net_lstm )"
      ],
      "execution_count": 12,
      "outputs": [
        {
          "output_type": "stream",
          "text": [
            "LSTM \n",
            " LSTM(\n",
            "  (embedding): Embedding(35, 100)\n",
            "  (lstm): LSTM(100, 256, num_layers=2, batch_first=True)\n",
            "  (dropout): Dropout(p=0.2, inplace=False)\n",
            "  (fc1): Linear(in_features=256, out_features=256, bias=True)\n",
            "  (fc2): Linear(in_features=256, out_features=1, bias=True)\n",
            ")\n"
          ],
          "name": "stdout"
        }
      ]
    },
    {
      "cell_type": "code",
      "metadata": {
        "id": "Kqt0A-Sdi3sY",
        "colab_type": "code",
        "colab": {}
      },
      "source": [
        "# loss and optimization functions\n",
        "lr=0.0005\n",
        "\n",
        "criterion = nn.MSELoss()\n",
        "optimizer = torch.optim.Adam(net_lstm.parameters(), lr=lr)"
      ],
      "execution_count": 13,
      "outputs": []
    },
    {
      "cell_type": "code",
      "metadata": {
        "id": "fJyyzRu_ji_W",
        "colab_type": "code",
        "colab": {}
      },
      "source": [
        "#functions used for training models\n",
        "def format_time(elapsed):\n",
        "    '''\n",
        "    Takes a time in seconds and returns a string hh:mm:ss\n",
        "    '''\n",
        "    # Round to the nearest second.\n",
        "    elapsed_rounded = int(round((elapsed)))\n",
        "    \n",
        "    # Format as hh:mm:ss\n",
        "    return str(datetime.timedelta(seconds=elapsed_rounded))\n",
        "\n",
        "def save_model(filename, decoder):\n",
        "    save_filename = os.path.splitext(os.path.basename(filename))[0] + '.pt'\n",
        "    torch.save(decoder, save_filename)\n",
        "\n",
        "def load_model(filename):\n",
        "    save_filename = os.path.splitext(os.path.basename(filename))[0] + '.pt'\n",
        "    return torch.load(save_filename)"
      ],
      "execution_count": 14,
      "outputs": []
    },
    {
      "cell_type": "code",
      "metadata": {
        "id": "GXSctqyVjkiF",
        "colab_type": "code",
        "colab": {
          "base_uri": "https://localhost:8080/",
          "height": 1000
        },
        "outputId": "a0164114-4201-40c7-f731-14ba9a9de7b0"
      },
      "source": [
        "epochs = 10 # 3-4 is approx where I noticed the validation loss stop decreasing\n",
        "\n",
        "counter = 0\n",
        "print_every = 100\n",
        "clip=5 # gradient clipping\n",
        "\n",
        "#lists used for plotting losses\n",
        "step_list = list()\n",
        "train_loss_list = list()\n",
        "val_loss_list = list()\n",
        "\n",
        "# move model to GPU, if available\n",
        "if(train_on_gpu):\n",
        "    net_lstm.cuda()\n",
        "\n",
        "#use min_loss to track the best model throughout the training loop\n",
        "min_val_loss = math.inf\n",
        "\n",
        "net_lstm.train()\n",
        "# train for some number of epochs\n",
        "for e in range(epochs):\n",
        "    print(\"\")\n",
        "    print('======== Epoch {:} / {:} ========'.format(e + 1, epochs))\n",
        "    print('Training...')\n",
        "\n",
        "    t0 = time.time()\n",
        "\n",
        "    # initialize hidden state\n",
        "    h = net_lstm.init_hidden(batch_size)\n",
        "\n",
        "    # batch loop\n",
        "    for inputs, labels in train_loader:\n",
        "        counter += 1\n",
        "\n",
        "        if(train_on_gpu):\n",
        "            inputs, labels = inputs.cuda(), labels.cuda()\n",
        "\n",
        "        # Creating new variables for the hidden state, otherwise\n",
        "        # we'd backprop through the entire training history\n",
        "        h = tuple([each.data for each in h])\n",
        "\n",
        "        # zero accumulated gradients\n",
        "        net_lstm.zero_grad()\n",
        "\n",
        "        # get the output from the model\n",
        "        output, _ = net_lstm(inputs, h)\n",
        "\n",
        "        # calculate the loss and perform backprop\n",
        "        loss = criterion(output.squeeze(), labels.float())\n",
        "        loss.backward()\n",
        "        # `clip_grad_norm` helps prevent the exploding gradient problem in RNNs / LSTMs.\n",
        "        nn.utils.clip_grad_norm_(net_lstm.parameters(), clip)\n",
        "        optimizer.step()\n",
        "\n",
        "        # loss stats\n",
        "        if counter % print_every == 0:\n",
        "            elapsed = format_time(time.time() - t0)\n",
        "\n",
        "            # Get validation loss\n",
        "            val_h = net_lstm.init_hidden(batch_size)\n",
        "            val_losses = []\n",
        "            net_lstm.eval()\n",
        "            for inputs, labels in valid_loader:\n",
        "\n",
        "                # Creating new variables for the hidden state, otherwise\n",
        "                # we'd backprop through the entire training history\n",
        "                val_h = tuple([each.data for each in val_h])\n",
        "\n",
        "                if(train_on_gpu):\n",
        "                    inputs, labels = inputs.cuda(), labels.cuda()\n",
        "\n",
        "                output, val_h = net_lstm(inputs, val_h)\n",
        "                val_loss = criterion(output.squeeze(), labels.float())\n",
        "\n",
        "                val_losses.append(val_loss.item())\n",
        "            \n",
        "\n",
        "            net_lstm.train()\n",
        "            print(\"Epoch: {}/{}...\".format(e+1, epochs),\n",
        "                  \"Step: {}...\".format(counter),\n",
        "                  \"Loss: {:.6f}...\".format(loss.item()),\n",
        "                  \"Val Loss: {:.6f}\".format(np.mean(val_losses)),\n",
        "                  \"Time: {:}\".format(elapsed))\n",
        "            if np.mean(val_losses) < min_val_loss:\n",
        "                min_val_loss = np.mean(val_losses)\n",
        "                save_model('./save/trained_lstm', net_lstm)\n",
        "                print('Model Trained and Saved')\n",
        "            step_list.append(counter)\n",
        "            train_loss_list.append(loss.item())\n",
        "            val_loss_list.append(np.mean(val_losses))"
      ],
      "execution_count": 15,
      "outputs": [
        {
          "output_type": "stream",
          "text": [
            "\n",
            "======== Epoch 1 / 10 ========\n",
            "Training...\n",
            "Epoch: 1/10... Step: 100... Loss: 7037529.000000... Val Loss: 6410347.000000 Time: 0:00:02\n",
            "Model Trained and Saved\n",
            "Epoch: 1/10... Step: 200... Loss: 5112251.000000... Val Loss: 5480363.340000 Time: 0:00:04\n",
            "Model Trained and Saved\n",
            "Epoch: 1/10... Step: 300... Loss: 4121836.000000... Val Loss: 4228218.100000 Time: 0:00:06\n",
            "Model Trained and Saved\n",
            "Epoch: 1/10... Step: 400... Loss: 3486879.250000... Val Loss: 2855048.710000 Time: 0:00:09\n",
            "Model Trained and Saved\n",
            "Epoch: 1/10... Step: 500... Loss: 1555256.250000... Val Loss: 1647837.214000 Time: 0:00:11\n",
            "Model Trained and Saved\n",
            "Epoch: 1/10... Step: 600... Loss: 1612607.125000... Val Loss: 985261.447250 Time: 0:00:13\n",
            "Model Trained and Saved\n",
            "Epoch: 1/10... Step: 700... Loss: 924717.000000... Val Loss: 958156.428750 Time: 0:00:16\n",
            "Model Trained and Saved\n",
            "Epoch: 1/10... Step: 800... Loss: 911599.312500... Val Loss: 958815.454250 Time: 0:00:18\n",
            "Epoch: 1/10... Step: 900... Loss: 717890.625000... Val Loss: 703011.587750 Time: 0:00:20\n",
            "Model Trained and Saved\n",
            "Epoch: 1/10... Step: 1000... Loss: 294790.968750... Val Loss: 380371.716000 Time: 0:00:22\n",
            "Model Trained and Saved\n",
            "Epoch: 1/10... Step: 1100... Loss: 290361.968750... Val Loss: 252578.980812 Time: 0:00:25\n",
            "Model Trained and Saved\n",
            "Epoch: 1/10... Step: 1200... Loss: 225189.796875... Val Loss: 166614.488281 Time: 0:00:27\n",
            "Model Trained and Saved\n",
            "Epoch: 1/10... Step: 1300... Loss: 314269.781250... Val Loss: 146397.849469 Time: 0:00:29\n",
            "Model Trained and Saved\n",
            "Epoch: 1/10... Step: 1400... Loss: 252725.796875... Val Loss: 125403.382094 Time: 0:00:32\n",
            "Model Trained and Saved\n",
            "Epoch: 1/10... Step: 1500... Loss: 170071.609375... Val Loss: 120768.032812 Time: 0:00:34\n",
            "Model Trained and Saved\n",
            "Epoch: 1/10... Step: 1600... Loss: 89882.320312... Val Loss: 108065.372078 Time: 0:00:36\n",
            "Model Trained and Saved\n",
            "Epoch: 1/10... Step: 1700... Loss: 45687.417969... Val Loss: 100623.402156 Time: 0:00:38\n",
            "Model Trained and Saved\n",
            "Epoch: 1/10... Step: 1800... Loss: 83712.289062... Val Loss: 95483.837719 Time: 0:00:41\n",
            "Model Trained and Saved\n",
            "Epoch: 1/10... Step: 1900... Loss: 112187.375000... Val Loss: 120569.587594 Time: 0:00:43\n",
            "Epoch: 1/10... Step: 2000... Loss: 109832.976562... Val Loss: 97075.173625 Time: 0:00:45\n",
            "Epoch: 1/10... Step: 2100... Loss: 146879.531250... Val Loss: 91317.168859 Time: 0:00:47\n",
            "Model Trained and Saved\n",
            "Epoch: 1/10... Step: 2200... Loss: 34659.257812... Val Loss: 87663.226344 Time: 0:00:50\n",
            "Model Trained and Saved\n",
            "\n",
            "======== Epoch 2 / 10 ========\n",
            "Training...\n",
            "Epoch: 2/10... Step: 2300... Loss: 134852.812500... Val Loss: 85381.951703 Time: 0:00:01\n",
            "Model Trained and Saved\n",
            "Epoch: 2/10... Step: 2400... Loss: 56557.253906... Val Loss: 89530.871937 Time: 0:00:03\n",
            "Epoch: 2/10... Step: 2500... Loss: 115471.539062... Val Loss: 88848.327516 Time: 0:00:05\n",
            "Epoch: 2/10... Step: 2600... Loss: 40943.242188... Val Loss: 78235.148734 Time: 0:00:07\n",
            "Model Trained and Saved\n",
            "Epoch: 2/10... Step: 2700... Loss: 91778.398438... Val Loss: 78762.556750 Time: 0:00:10\n",
            "Epoch: 2/10... Step: 2800... Loss: 125650.937500... Val Loss: 78333.683008 Time: 0:00:12\n",
            "Epoch: 2/10... Step: 2900... Loss: 66505.882812... Val Loss: 79411.420250 Time: 0:00:14\n",
            "Epoch: 2/10... Step: 3000... Loss: 110112.578125... Val Loss: 73266.945156 Time: 0:00:17\n",
            "Model Trained and Saved\n",
            "Epoch: 2/10... Step: 3100... Loss: 74378.656250... Val Loss: 68343.754281 Time: 0:00:19\n",
            "Model Trained and Saved\n",
            "Epoch: 2/10... Step: 3200... Loss: 82747.218750... Val Loss: 79226.391852 Time: 0:00:21\n",
            "Epoch: 2/10... Step: 3300... Loss: 135212.203125... Val Loss: 82558.139359 Time: 0:00:23\n",
            "Epoch: 2/10... Step: 3400... Loss: 48540.597656... Val Loss: 82994.188812 Time: 0:00:26\n",
            "Epoch: 2/10... Step: 3500... Loss: 40203.296875... Val Loss: 66021.039102 Time: 0:00:28\n",
            "Model Trained and Saved\n",
            "Epoch: 2/10... Step: 3600... Loss: 34432.707031... Val Loss: 68100.143977 Time: 0:00:30\n",
            "Epoch: 2/10... Step: 3700... Loss: 135563.640625... Val Loss: 65898.515383 Time: 0:00:32\n",
            "Model Trained and Saved\n",
            "Epoch: 2/10... Step: 3800... Loss: 96023.507812... Val Loss: 66869.275844 Time: 0:00:35\n",
            "Epoch: 2/10... Step: 3900... Loss: 40602.847656... Val Loss: 66558.731609 Time: 0:00:37\n",
            "Epoch: 2/10... Step: 4000... Loss: 45704.589844... Val Loss: 65634.053453 Time: 0:00:39\n",
            "Model Trained and Saved\n",
            "Epoch: 2/10... Step: 4100... Loss: 94823.820312... Val Loss: 70865.685016 Time: 0:00:42\n",
            "Epoch: 2/10... Step: 4200... Loss: 79921.664062... Val Loss: 62194.157813 Time: 0:00:44\n",
            "Model Trained and Saved\n",
            "Epoch: 2/10... Step: 4300... Loss: 56545.644531... Val Loss: 71569.426250 Time: 0:00:46\n",
            "Epoch: 2/10... Step: 4400... Loss: 36516.031250... Val Loss: 70693.554359 Time: 0:00:48\n",
            "Epoch: 2/10... Step: 4500... Loss: 66583.195312... Val Loss: 64750.549305 Time: 0:00:51\n",
            "\n",
            "======== Epoch 3 / 10 ========\n",
            "Training...\n",
            "Epoch: 3/10... Step: 4600... Loss: 67898.835938... Val Loss: 59097.768523 Time: 0:00:01\n",
            "Model Trained and Saved\n",
            "Epoch: 3/10... Step: 4700... Loss: 65848.187500... Val Loss: 62546.546348 Time: 0:00:03\n",
            "Epoch: 3/10... Step: 4800... Loss: 43916.304688... Val Loss: 65041.897430 Time: 0:00:06\n",
            "Epoch: 3/10... Step: 4900... Loss: 57387.945312... Val Loss: 57771.973547 Time: 0:00:08\n",
            "Model Trained and Saved\n",
            "Epoch: 3/10... Step: 5000... Loss: 110761.593750... Val Loss: 62109.760313 Time: 0:00:10\n",
            "Epoch: 3/10... Step: 5100... Loss: 46955.449219... Val Loss: 60606.801547 Time: 0:00:13\n",
            "Epoch: 3/10... Step: 5200... Loss: 49227.347656... Val Loss: 67922.727516 Time: 0:00:15\n",
            "Epoch: 3/10... Step: 5300... Loss: 685682.937500... Val Loss: 63342.302539 Time: 0:00:17\n",
            "Epoch: 3/10... Step: 5400... Loss: 27635.289062... Val Loss: 61856.898102 Time: 0:00:19\n",
            "Epoch: 3/10... Step: 5500... Loss: 74204.812500... Val Loss: 60570.353109 Time: 0:00:22\n",
            "Epoch: 3/10... Step: 5600... Loss: 69123.023438... Val Loss: 56467.019656 Time: 0:00:24\n",
            "Model Trained and Saved\n",
            "Epoch: 3/10... Step: 5700... Loss: 74730.679688... Val Loss: 63015.976313 Time: 0:00:26\n",
            "Epoch: 3/10... Step: 5800... Loss: 45124.789062... Val Loss: 70185.977133 Time: 0:00:28\n",
            "Epoch: 3/10... Step: 5900... Loss: 85663.546875... Val Loss: 70270.509383 Time: 0:00:31\n",
            "Epoch: 3/10... Step: 6000... Loss: 114408.000000... Val Loss: 65331.705922 Time: 0:00:33\n",
            "Epoch: 3/10... Step: 6100... Loss: 30788.236328... Val Loss: 60616.850348 Time: 0:00:35\n",
            "Epoch: 3/10... Step: 6200... Loss: 32780.433594... Val Loss: 56533.319617 Time: 0:00:38\n",
            "Epoch: 3/10... Step: 6300... Loss: 50729.257812... Val Loss: 52129.639699 Time: 0:00:40\n",
            "Model Trained and Saved\n",
            "Epoch: 3/10... Step: 6400... Loss: 52894.312500... Val Loss: 62082.246773 Time: 0:00:42\n",
            "Epoch: 3/10... Step: 6500... Loss: 42592.027344... Val Loss: 62889.713820 Time: 0:00:44\n",
            "Epoch: 3/10... Step: 6600... Loss: 64730.613281... Val Loss: 61689.524695 Time: 0:00:47\n",
            "Epoch: 3/10... Step: 6700... Loss: 60467.363281... Val Loss: 56135.672719 Time: 0:00:49\n",
            "\n",
            "======== Epoch 4 / 10 ========\n",
            "Training...\n",
            "Epoch: 4/10... Step: 6800... Loss: 43374.375000... Val Loss: 54235.372477 Time: 0:00:00\n",
            "Epoch: 4/10... Step: 6900... Loss: 49930.667969... Val Loss: 54438.629734 Time: 0:00:02\n",
            "Epoch: 4/10... Step: 7000... Loss: 95859.156250... Val Loss: 56234.989938 Time: 0:00:05\n",
            "Epoch: 4/10... Step: 7100... Loss: 16720.855469... Val Loss: 55713.393980 Time: 0:00:07\n",
            "Epoch: 4/10... Step: 7200... Loss: 59945.035156... Val Loss: 56279.385727 Time: 0:00:09\n",
            "Epoch: 4/10... Step: 7300... Loss: 212600.875000... Val Loss: 66076.825164 Time: 0:00:11\n",
            "Epoch: 4/10... Step: 7400... Loss: 129893.625000... Val Loss: 57901.123266 Time: 0:00:14\n",
            "Epoch: 4/10... Step: 7500... Loss: 74842.867188... Val Loss: 56026.143383 Time: 0:00:16\n",
            "Epoch: 4/10... Step: 7600... Loss: 57804.332031... Val Loss: 56337.976844 Time: 0:00:18\n",
            "Epoch: 4/10... Step: 7700... Loss: 101379.437500... Val Loss: 52503.502266 Time: 0:00:21\n",
            "Epoch: 4/10... Step: 7800... Loss: 77924.226562... Val Loss: 52006.094703 Time: 0:00:23\n",
            "Model Trained and Saved\n",
            "Epoch: 4/10... Step: 7900... Loss: 38264.910156... Val Loss: 50883.402527 Time: 0:00:25\n",
            "Model Trained and Saved\n",
            "Epoch: 4/10... Step: 8000... Loss: 60446.527344... Val Loss: 51529.393078 Time: 0:00:27\n",
            "Epoch: 4/10... Step: 8100... Loss: 58214.968750... Val Loss: 51612.624809 Time: 0:00:30\n",
            "Epoch: 4/10... Step: 8200... Loss: 17001.552734... Val Loss: 59648.388609 Time: 0:00:32\n",
            "Epoch: 4/10... Step: 8300... Loss: 72125.398438... Val Loss: 52543.592039 Time: 0:00:34\n",
            "Epoch: 4/10... Step: 8400... Loss: 63070.648438... Val Loss: 51306.389793 Time: 0:00:36\n",
            "Epoch: 4/10... Step: 8500... Loss: 37538.035156... Val Loss: 51756.618941 Time: 0:00:39\n",
            "Epoch: 4/10... Step: 8600... Loss: 60716.738281... Val Loss: 57058.778520 Time: 0:00:41\n",
            "Epoch: 4/10... Step: 8700... Loss: 109686.445312... Val Loss: 53380.808145 Time: 0:00:43\n",
            "Epoch: 4/10... Step: 8800... Loss: 58612.750000... Val Loss: 53923.742773 Time: 0:00:46\n",
            "Epoch: 4/10... Step: 8900... Loss: 31818.076172... Val Loss: 55055.927891 Time: 0:00:48\n",
            "Epoch: 4/10... Step: 9000... Loss: 52846.070312... Val Loss: 56716.795586 Time: 0:00:50\n",
            "\n",
            "======== Epoch 5 / 10 ========\n",
            "Training...\n",
            "Epoch: 5/10... Step: 9100... Loss: 31703.826172... Val Loss: 50303.271852 Time: 0:00:01\n",
            "Model Trained and Saved\n",
            "Epoch: 5/10... Step: 9200... Loss: 48202.980469... Val Loss: 51640.930867 Time: 0:00:03\n",
            "Epoch: 5/10... Step: 9300... Loss: 58800.367188... Val Loss: 52544.014430 Time: 0:00:05\n",
            "Epoch: 5/10... Step: 9400... Loss: 48546.980469... Val Loss: 60682.795523 Time: 0:00:07\n",
            "Epoch: 5/10... Step: 9500... Loss: 27999.376953... Val Loss: 48755.677965 Time: 0:00:10\n",
            "Model Trained and Saved\n",
            "Epoch: 5/10... Step: 9600... Loss: 34590.000000... Val Loss: 49414.664320 Time: 0:00:12\n",
            "Epoch: 5/10... Step: 9700... Loss: 76148.601562... Val Loss: 53499.031355 Time: 0:00:14\n",
            "Epoch: 5/10... Step: 9800... Loss: 42520.437500... Val Loss: 47915.853330 Time: 0:00:17\n",
            "Model Trained and Saved\n",
            "Epoch: 5/10... Step: 9900... Loss: 50280.898438... Val Loss: 53072.319820 Time: 0:00:19\n",
            "Epoch: 5/10... Step: 10000... Loss: 22525.574219... Val Loss: 44251.525699 Time: 0:00:21\n",
            "Model Trained and Saved\n",
            "Epoch: 5/10... Step: 10100... Loss: 44011.324219... Val Loss: 52288.589766 Time: 0:00:23\n",
            "Epoch: 5/10... Step: 10200... Loss: 90403.671875... Val Loss: 47264.764395 Time: 0:00:26\n",
            "Epoch: 5/10... Step: 10300... Loss: 27769.662109... Val Loss: 45752.874301 Time: 0:00:28\n",
            "Epoch: 5/10... Step: 10400... Loss: 35826.996094... Val Loss: 50814.687359 Time: 0:00:30\n",
            "Epoch: 5/10... Step: 10500... Loss: 65175.859375... Val Loss: 48477.279293 Time: 0:00:32\n",
            "Epoch: 5/10... Step: 10600... Loss: 32927.808594... Val Loss: 47010.805125 Time: 0:00:35\n",
            "Epoch: 5/10... Step: 10700... Loss: 85147.804688... Val Loss: 49852.528621 Time: 0:00:37\n",
            "Epoch: 5/10... Step: 10800... Loss: 118616.539062... Val Loss: 48366.486725 Time: 0:00:39\n",
            "Epoch: 5/10... Step: 10900... Loss: 80779.765625... Val Loss: 50433.481250 Time: 0:00:41\n",
            "Epoch: 5/10... Step: 11000... Loss: 54858.929688... Val Loss: 49375.275879 Time: 0:00:44\n",
            "Epoch: 5/10... Step: 11100... Loss: 45627.078125... Val Loss: 46239.484684 Time: 0:00:46\n",
            "Epoch: 5/10... Step: 11200... Loss: 15644.812500... Val Loss: 56104.219711 Time: 0:00:48\n",
            "Epoch: 5/10... Step: 11300... Loss: 53885.070312... Val Loss: 51904.658734 Time: 0:00:50\n",
            "\n",
            "======== Epoch 6 / 10 ========\n",
            "Training...\n",
            "Epoch: 6/10... Step: 11400... Loss: 57200.269531... Val Loss: 50140.578281 Time: 0:00:01\n",
            "Epoch: 6/10... Step: 11500... Loss: 39021.746094... Val Loss: 46595.092072 Time: 0:00:03\n",
            "Epoch: 6/10... Step: 11600... Loss: 40534.226562... Val Loss: 46279.936340 Time: 0:00:06\n",
            "Epoch: 6/10... Step: 11700... Loss: 34839.820312... Val Loss: 48780.046785 Time: 0:00:08\n",
            "Epoch: 6/10... Step: 11800... Loss: 32548.410156... Val Loss: 50613.102914 Time: 0:00:10\n",
            "Epoch: 6/10... Step: 11900... Loss: 134104.109375... Val Loss: 45885.318000 Time: 0:00:12\n",
            "Epoch: 6/10... Step: 12000... Loss: 45841.277344... Val Loss: 46937.751020 Time: 0:00:15\n",
            "Epoch: 6/10... Step: 12100... Loss: 262250.343750... Val Loss: 48173.641258 Time: 0:00:17\n",
            "Epoch: 6/10... Step: 12200... Loss: 63057.636719... Val Loss: 48293.078926 Time: 0:00:19\n",
            "Epoch: 6/10... Step: 12300... Loss: 39561.648438... Val Loss: 46844.645730 Time: 0:00:22\n",
            "Epoch: 6/10... Step: 12400... Loss: 83380.406250... Val Loss: 47493.215098 Time: 0:00:24\n",
            "Epoch: 6/10... Step: 12500... Loss: 40096.242188... Val Loss: 48662.727113 Time: 0:00:26\n",
            "Epoch: 6/10... Step: 12600... Loss: 69599.367188... Val Loss: 43482.637699 Time: 0:00:28\n",
            "Model Trained and Saved\n",
            "Epoch: 6/10... Step: 12700... Loss: 54778.878906... Val Loss: 44439.126133 Time: 0:00:31\n",
            "Epoch: 6/10... Step: 12800... Loss: 42847.753906... Val Loss: 43165.741014 Time: 0:00:33\n",
            "Model Trained and Saved\n",
            "Epoch: 6/10... Step: 12900... Loss: 41066.523438... Val Loss: 47943.428969 Time: 0:00:35\n",
            "Epoch: 6/10... Step: 13000... Loss: 35233.085938... Val Loss: 42676.334078 Time: 0:00:37\n",
            "Model Trained and Saved\n",
            "Epoch: 6/10... Step: 13100... Loss: 38280.996094... Val Loss: 51846.153320 Time: 0:00:40\n",
            "Epoch: 6/10... Step: 13200... Loss: 99322.007812... Val Loss: 50088.521000 Time: 0:00:42\n",
            "Epoch: 6/10... Step: 13300... Loss: 40998.957031... Val Loss: 47094.681187 Time: 0:00:44\n",
            "Epoch: 6/10... Step: 13400... Loss: 60514.972656... Val Loss: 51416.583117 Time: 0:00:47\n",
            "Epoch: 6/10... Step: 13500... Loss: 65791.531250... Val Loss: 46485.045598 Time: 0:00:49\n",
            "\n",
            "======== Epoch 7 / 10 ========\n",
            "Training...\n",
            "Epoch: 7/10... Step: 13600... Loss: 61967.957031... Val Loss: 50264.904730 Time: 0:00:00\n",
            "Epoch: 7/10... Step: 13700... Loss: 50323.968750... Val Loss: 43751.329016 Time: 0:00:02\n",
            "Epoch: 7/10... Step: 13800... Loss: 46768.375000... Val Loss: 52759.779941 Time: 0:00:05\n",
            "Epoch: 7/10... Step: 13900... Loss: 65869.023438... Val Loss: 51647.525543 Time: 0:00:07\n",
            "Epoch: 7/10... Step: 14000... Loss: 48739.925781... Val Loss: 42796.143990 Time: 0:00:09\n",
            "Epoch: 7/10... Step: 14100... Loss: 82807.171875... Val Loss: 46431.002023 Time: 0:00:12\n",
            "Epoch: 7/10... Step: 14200... Loss: 62743.117188... Val Loss: 41892.084645 Time: 0:00:14\n",
            "Model Trained and Saved\n",
            "Epoch: 7/10... Step: 14300... Loss: 51900.750000... Val Loss: 51532.122922 Time: 0:00:16\n",
            "Epoch: 7/10... Step: 14400... Loss: 27077.593750... Val Loss: 44508.816598 Time: 0:00:19\n",
            "Epoch: 7/10... Step: 14500... Loss: 35537.074219... Val Loss: 48517.627773 Time: 0:00:21\n",
            "Epoch: 7/10... Step: 14600... Loss: 25253.146484... Val Loss: 50371.830984 Time: 0:00:23\n",
            "Epoch: 7/10... Step: 14700... Loss: 93245.179688... Val Loss: 45949.369766 Time: 0:00:25\n",
            "Epoch: 7/10... Step: 14800... Loss: 47802.343750... Val Loss: 42707.740281 Time: 0:00:28\n",
            "Epoch: 7/10... Step: 14900... Loss: 25102.464844... Val Loss: 43503.799551 Time: 0:00:30\n",
            "Epoch: 7/10... Step: 15000... Loss: 34609.023438... Val Loss: 42806.464582 Time: 0:00:32\n",
            "Epoch: 7/10... Step: 15100... Loss: 39003.445312... Val Loss: 43771.660969 Time: 0:00:34\n",
            "Epoch: 7/10... Step: 15200... Loss: 41660.433594... Val Loss: 43997.883393 Time: 0:00:37\n",
            "Epoch: 7/10... Step: 15300... Loss: 70137.656250... Val Loss: 47679.929113 Time: 0:00:39\n",
            "Epoch: 7/10... Step: 15400... Loss: 76712.851562... Val Loss: 42426.876020 Time: 0:00:41\n",
            "Epoch: 7/10... Step: 15500... Loss: 62698.437500... Val Loss: 42477.462227 Time: 0:00:44\n",
            "Epoch: 7/10... Step: 15600... Loss: 15200.402344... Val Loss: 42838.723211 Time: 0:00:46\n",
            "Epoch: 7/10... Step: 15700... Loss: 51033.515625... Val Loss: 43279.746621 Time: 0:00:48\n",
            "Epoch: 7/10... Step: 15800... Loss: 21178.628906... Val Loss: 40478.276127 Time: 0:00:50\n",
            "Model Trained and Saved\n",
            "\n",
            "======== Epoch 8 / 10 ========\n",
            "Training...\n",
            "Epoch: 8/10... Step: 15900... Loss: 86039.906250... Val Loss: 48456.274264 Time: 0:00:01\n",
            "Epoch: 8/10... Step: 16000... Loss: 39658.019531... Val Loss: 45743.072285 Time: 0:00:03\n",
            "Epoch: 8/10... Step: 16100... Loss: 104411.140625... Val Loss: 44190.178699 Time: 0:00:05\n",
            "Epoch: 8/10... Step: 16200... Loss: 64167.660156... Val Loss: 45030.145246 Time: 0:00:07\n",
            "Epoch: 8/10... Step: 16300... Loss: 27466.619141... Val Loss: 43191.126766 Time: 0:00:10\n",
            "Epoch: 8/10... Step: 16400... Loss: 29271.136719... Val Loss: 41507.646664 Time: 0:00:12\n",
            "Epoch: 8/10... Step: 16500... Loss: 24135.666016... Val Loss: 43613.190863 Time: 0:00:14\n",
            "Epoch: 8/10... Step: 16600... Loss: 38179.941406... Val Loss: 44267.892859 Time: 0:00:17\n",
            "Epoch: 8/10... Step: 16700... Loss: 19899.138672... Val Loss: 43496.929838 Time: 0:00:19\n",
            "Epoch: 8/10... Step: 16800... Loss: 26392.136719... Val Loss: 42130.814650 Time: 0:00:21\n",
            "Epoch: 8/10... Step: 16900... Loss: 32151.039062... Val Loss: 42061.518166 Time: 0:00:23\n",
            "Epoch: 8/10... Step: 17000... Loss: 18655.011719... Val Loss: 43607.235260 Time: 0:00:26\n",
            "Epoch: 8/10... Step: 17100... Loss: 104561.414062... Val Loss: 58270.759195 Time: 0:00:28\n",
            "Epoch: 8/10... Step: 17200... Loss: 113301.195312... Val Loss: 41544.616273 Time: 0:00:30\n",
            "Epoch: 8/10... Step: 17300... Loss: 50116.363281... Val Loss: 44749.595248 Time: 0:00:32\n",
            "Epoch: 8/10... Step: 17400... Loss: 59064.437500... Val Loss: 45209.393213 Time: 0:00:35\n",
            "Epoch: 8/10... Step: 17500... Loss: 35090.222656... Val Loss: 40354.038578 Time: 0:00:37\n",
            "Model Trained and Saved\n",
            "Epoch: 8/10... Step: 17600... Loss: 31845.984375... Val Loss: 43101.338090 Time: 0:00:39\n",
            "Epoch: 8/10... Step: 17700... Loss: 47442.843750... Val Loss: 40755.739484 Time: 0:00:42\n",
            "Epoch: 8/10... Step: 17800... Loss: 65228.097656... Val Loss: 41876.387227 Time: 0:00:44\n",
            "Epoch: 8/10... Step: 17900... Loss: 25195.347656... Val Loss: 41669.155641 Time: 0:00:46\n",
            "Epoch: 8/10... Step: 18000... Loss: 75097.703125... Val Loss: 45149.262287 Time: 0:00:48\n",
            "Epoch: 8/10... Step: 18100... Loss: 26376.591797... Val Loss: 39071.707215 Time: 0:00:51\n",
            "Model Trained and Saved\n",
            "\n",
            "======== Epoch 9 / 10 ========\n",
            "Training...\n",
            "Epoch: 9/10... Step: 18200... Loss: 36496.093750... Val Loss: 44538.676059 Time: 0:00:01\n",
            "Epoch: 9/10... Step: 18300... Loss: 35656.078125... Val Loss: 42051.141195 Time: 0:00:03\n",
            "Epoch: 9/10... Step: 18400... Loss: 31244.585938... Val Loss: 45330.758262 Time: 0:00:06\n",
            "Epoch: 9/10... Step: 18500... Loss: 19108.552734... Val Loss: 43682.491141 Time: 0:00:08\n",
            "Epoch: 9/10... Step: 18600... Loss: 28053.324219... Val Loss: 44572.206719 Time: 0:00:10\n",
            "Epoch: 9/10... Step: 18700... Loss: 47945.617188... Val Loss: 38519.286906 Time: 0:00:13\n",
            "Model Trained and Saved\n",
            "Epoch: 9/10... Step: 18800... Loss: 25483.548828... Val Loss: 45335.818934 Time: 0:00:15\n",
            "Epoch: 9/10... Step: 18900... Loss: 40865.527344... Val Loss: 46957.084219 Time: 0:00:17\n",
            "Epoch: 9/10... Step: 19000... Loss: 30200.335938... Val Loss: 46965.103086 Time: 0:00:19\n",
            "Epoch: 9/10... Step: 19100... Loss: 25058.285156... Val Loss: 38870.378359 Time: 0:00:22\n",
            "Epoch: 9/10... Step: 19200... Loss: 65853.375000... Val Loss: 37980.036340 Time: 0:00:24\n",
            "Model Trained and Saved\n",
            "Epoch: 9/10... Step: 19300... Loss: 49698.027344... Val Loss: 39772.657563 Time: 0:00:26\n",
            "Epoch: 9/10... Step: 19400... Loss: 35417.390625... Val Loss: 41471.696988 Time: 0:00:29\n",
            "Epoch: 9/10... Step: 19500... Loss: 71007.929688... Val Loss: 40743.981434 Time: 0:00:31\n",
            "Epoch: 9/10... Step: 19600... Loss: 21217.136719... Val Loss: 38323.877621 Time: 0:00:33\n",
            "Epoch: 9/10... Step: 19700... Loss: 81263.296875... Val Loss: 39863.256088 Time: 0:00:35\n",
            "Epoch: 9/10... Step: 19800... Loss: 79454.234375... Val Loss: 41596.374342 Time: 0:00:38\n",
            "Epoch: 9/10... Step: 19900... Loss: 29097.164062... Val Loss: 40948.622791 Time: 0:00:40\n",
            "Epoch: 9/10... Step: 20000... Loss: 54491.968750... Val Loss: 40451.347074 Time: 0:00:42\n",
            "Epoch: 9/10... Step: 20100... Loss: 42721.414062... Val Loss: 39760.114404 Time: 0:00:44\n",
            "Epoch: 9/10... Step: 20200... Loss: 24343.705078... Val Loss: 39955.092217 Time: 0:00:47\n",
            "Epoch: 9/10... Step: 20300... Loss: 49341.574219... Val Loss: 38544.446104 Time: 0:00:49\n",
            "\n",
            "======== Epoch 10 / 10 ========\n",
            "Training...\n",
            "Epoch: 10/10... Step: 20400... Loss: 30030.410156... Val Loss: 43778.099871 Time: 0:00:00\n",
            "Epoch: 10/10... Step: 20500... Loss: 30245.505859... Val Loss: 43107.722314 Time: 0:00:02\n",
            "Epoch: 10/10... Step: 20600... Loss: 33768.417969... Val Loss: 38716.890857 Time: 0:00:05\n",
            "Epoch: 10/10... Step: 20700... Loss: 39743.167969... Val Loss: 40493.269543 Time: 0:00:07\n",
            "Epoch: 10/10... Step: 20800... Loss: 60827.328125... Val Loss: 38814.336289 Time: 0:00:09\n",
            "Epoch: 10/10... Step: 20900... Loss: 251046.718750... Val Loss: 39374.534684 Time: 0:00:11\n",
            "Epoch: 10/10... Step: 21000... Loss: 49788.050781... Val Loss: 40983.060475 Time: 0:00:14\n",
            "Epoch: 10/10... Step: 21100... Loss: 29121.599609... Val Loss: 39138.318146 Time: 0:00:16\n",
            "Epoch: 10/10... Step: 21200... Loss: 52912.074219... Val Loss: 43550.370848 Time: 0:00:18\n",
            "Epoch: 10/10... Step: 21300... Loss: 101790.937500... Val Loss: 40991.206984 Time: 0:00:21\n",
            "Epoch: 10/10... Step: 21400... Loss: 55837.558594... Val Loss: 39875.668437 Time: 0:00:23\n",
            "Epoch: 10/10... Step: 21500... Loss: 39203.375000... Val Loss: 37750.353891 Time: 0:00:25\n",
            "Model Trained and Saved\n",
            "Epoch: 10/10... Step: 21600... Loss: 18524.378906... Val Loss: 45049.696566 Time: 0:00:27\n",
            "Epoch: 10/10... Step: 21700... Loss: 42309.429688... Val Loss: 37995.667149 Time: 0:00:30\n",
            "Epoch: 10/10... Step: 21800... Loss: 42463.824219... Val Loss: 40211.806193 Time: 0:00:32\n",
            "Epoch: 10/10... Step: 21900... Loss: 16644.156250... Val Loss: 38898.864840 Time: 0:00:34\n",
            "Epoch: 10/10... Step: 22000... Loss: 24267.722656... Val Loss: 42579.381307 Time: 0:00:36\n",
            "Epoch: 10/10... Step: 22100... Loss: 37745.890625... Val Loss: 44098.813195 Time: 0:00:39\n",
            "Epoch: 10/10... Step: 22200... Loss: 35713.238281... Val Loss: 45041.503393 Time: 0:00:41\n",
            "Epoch: 10/10... Step: 22300... Loss: 32999.414062... Val Loss: 38491.049649 Time: 0:00:43\n",
            "Epoch: 10/10... Step: 22400... Loss: 51217.328125... Val Loss: 38998.216617 Time: 0:00:45\n",
            "Epoch: 10/10... Step: 22500... Loss: 27023.785156... Val Loss: 38051.739410 Time: 0:00:48\n",
            "Epoch: 10/10... Step: 22600... Loss: 11817.828125... Val Loss: 44232.453477 Time: 0:00:50\n"
          ],
          "name": "stdout"
        }
      ]
    },
    {
      "cell_type": "code",
      "metadata": {
        "id": "3sCpBNmVwb-E",
        "colab_type": "code",
        "colab": {
          "base_uri": "https://localhost:8080/",
          "height": 290
        },
        "outputId": "4b9887d4-fdd5-4336-ca01-1a914686363e"
      },
      "source": [
        "#Plotting loss\n",
        "pyplot.plot(step_list, train_loss_list, color='blue', label='training loss')\n",
        "pyplot.plot(step_list, val_loss_list, color='red', label='validating loss')\n",
        "pyplot.legend()\n",
        "pyplot.xlabel('Step')\n",
        "pyplot.ylabel('Loss')\n",
        "pyplot.show()"
      ],
      "execution_count": 16,
      "outputs": [
        {
          "output_type": "display_data",
          "data": {
            "image/png": "[encoded data removed]",
            "text/plain": [
              "<Figure size 432x288 with 1 Axes>"
            ]
          },
          "metadata": {
            "tags": [],
            "needs_background": "light"
          }
        }
      ]
    },
    {
      "cell_type": "code",
      "metadata": {
        "id": "s4bEzZ2njoI2",
        "colab_type": "code",
        "colab": {
          "base_uri": "https://localhost:8080/",
          "height": 52
        },
        "outputId": "e52dc810-6d73-41db-dc6c-df2de2b835fa"
      },
      "source": [
        "\n",
        "test_losses = [] # track loss\n",
        "num_correct = 0\n",
        "\n",
        "net_lstm = load_model('./save/trained_lstm') #load the saved model\n",
        "\n",
        "h = net_lstm.init_hidden(batch_size)\n",
        "\n",
        "net_lstm.eval()\n",
        "\n",
        "for inputs, labels in test_loader:\n",
        "\n",
        "    # Creating new variables for the hidden state, otherwise\n",
        "    # we'd backprop through the entire training history\n",
        "    h = tuple([each.data for each in h])\n",
        "\n",
        "    if(train_on_gpu):\n",
        "        inputs, labels = inputs.cuda(), labels.cuda()\n",
        "    \n",
        "    # get predicted outputs\n",
        "    output, h = net_lstm(inputs, h)\n",
        "    \n",
        "    # calculate loss\n",
        "    test_loss = criterion(output.squeeze(), labels.float())\n",
        "    test_losses.append(test_loss.item())\n",
        "    \n",
        "    # convert output probabilities to predicted class (0 or 1)\n",
        "    pred = torch.round(output.squeeze()/1000)  # rounds to the nearest integer\n",
        "    original_labels = labels // 1000\n",
        "    # compare predictions to true label\n",
        "    correct_tensor = pred.eq(original_labels.float().view_as(pred))\n",
        "    correct = np.squeeze(correct_tensor.numpy()) if not train_on_gpu else np.squeeze(correct_tensor.cpu().numpy())\n",
        "    num_correct += np.sum(correct)\n",
        "\n",
        "    # -- stats! -- ##\n",
        "# avg test loss\n",
        "print(\"Test loss: {:.3f}\".format(np.mean(test_losses)))\n",
        "\n",
        "# accuracy over all test data\n",
        "test_acc = num_correct/len(test_loader.dataset)\n",
        "print(\"Test accuracy of LSTM networks: {:.3f}\".format(test_acc))"
      ],
      "execution_count": 17,
      "outputs": [
        {
          "output_type": "stream",
          "text": [
            "Test loss: 46859.959\n",
            "Test accuracy of LSTM networks: 0.945\n"
          ],
          "name": "stdout"
        }
      ]
    },
    {
      "cell_type": "code",
      "metadata": {
        "id": "DP7B96WslOY3",
        "colab_type": "code",
        "colab": {}
      },
      "source": [
        "def tokenize_word(words):\n",
        "\n",
        "  \n",
        "    test_ints = []\n",
        "    for word in words:\n",
        "      word = word.lower()\n",
        "      test_ints.append([char_to_int[char] for char in word])\n",
        "    test_ints = pad_words(test_ints, 28)\n",
        "    return test_ints\n",
        "\n",
        "def predict(net, words):\n",
        "    \n",
        "    net.eval()\n",
        "    \n",
        "\n",
        "    test_ints = tokenize_word(words)\n",
        "    print(test_ints)\n",
        "    \n",
        "\n",
        "    features = np.array(test_ints)\n",
        "    \n",
        "\n",
        "    feature_tensor = torch.from_numpy(features)\n",
        "    batch_size =  feature_tensor.size(0)\n",
        "    h = net.init_hidden(batch_size)\n",
        "    \n",
        "    if(train_on_gpu):\n",
        "        feature_tensor = feature_tensor.cuda()\n",
        "    \n",
        "    # get the output from the model\n",
        "    output, h = net(feature_tensor, h)\n",
        "    \n",
        "    pred = torch.round(output.squeeze()/1000)\n",
        "    print(pred.data) \n",
        "    # printing output value, before rounding\n",
        "    print('Prediction value, pre-rounding: ', (output.data))\n",
        "  "
      ],
      "execution_count": 18,
      "outputs": []
    },
    {
      "cell_type": "code",
      "metadata": {
        "id": "CFQDP2IJlffu",
        "colab_type": "code",
        "colab": {
          "base_uri": "https://localhost:8080/",
          "height": 124
        },
        "outputId": "386a6417-8d93-4523-b099-8a60abd2eb30"
      },
      "source": [
        "predict(net_lstm, ('tranquocson','tonikroos'))"
      ],
      "execution_count": 19,
      "outputs": [
        {
          "output_type": "stream",
          "text": [
            "[[ 0  0  0  0  0  0  0  0  0  0  0  0  0  0  0  0  0 10  5  4  8 29 15  9\n",
            "  12  7  9  8]\n",
            " [ 0  0  0  0  0  0  0  0  0  0  0  0  0  0  0  0  0  0  0 10  9  8  6 20\n",
            "   5  9  9  7]]\n",
            "tensor([3., 3.], device='cuda:0')\n",
            "Prediction value, pre-rounding:  tensor([2974.3708, 3030.5068], device='cuda:0')\n"
          ],
          "name": "stdout"
        }
      ]
    },
    {
      "cell_type": "code",
      "metadata": {
        "id": "DAO5s1tMlphe",
        "colab_type": "code",
        "colab": {}
      },
      "source": [
        ""
      ],
      "execution_count": 19,
      "outputs": []
    }
  ]
}